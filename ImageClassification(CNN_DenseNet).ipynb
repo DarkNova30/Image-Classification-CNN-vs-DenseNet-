{
  "cells": [
    {
      "cell_type": "code",
      "execution_count": 1,
      "id": "70c43587",
      "metadata": {
        "id": "70c43587"
      },
      "outputs": [],
      "source": [
        "#importing necessarry libraries\n",
        "import tensorflow as tf\n",
        "from tensorflow.keras import datasets,layers,models\n",
        "import matplotlib.pyplot as plt\n",
        "import numpy as np\n",
        "from skimage import io\n",
        "import keras"
      ]
    },
    {
      "cell_type": "code",
      "execution_count": 2,
      "id": "07509590",
      "metadata": {
        "colab": {
          "base_uri": "https://localhost:8080/"
        },
        "id": "07509590",
        "outputId": "f21ff588-e82b-46b4-bfac-a81c9e5894d5"
      },
      "outputs": [
        {
          "output_type": "stream",
          "name": "stdout",
          "text": [
            "Downloading data from https://www.cs.toronto.edu/~kriz/cifar-10-python.tar.gz\n",
            "170498071/170498071 [==============================] - 2s 0us/step\n"
          ]
        }
      ],
      "source": [
        "#Loading dataset\n",
        "\n",
        "(X_train,Y_train),(X_test,Y_test)=datasets.cifar10.load_data()"
      ]
    },
    {
      "cell_type": "code",
      "execution_count": 3,
      "id": "6e0fb7b4",
      "metadata": {
        "colab": {
          "base_uri": "https://localhost:8080/"
        },
        "id": "6e0fb7b4",
        "outputId": "d325fd20-b097-4240-dada-63f2fd51221a"
      },
      "outputs": [
        {
          "output_type": "execute_result",
          "data": {
            "text/plain": [
              "(50000, 32, 32, 3)"
            ]
          },
          "metadata": {},
          "execution_count": 3
        }
      ],
      "source": [
        "X_train.shape"
      ]
    },
    {
      "cell_type": "code",
      "execution_count": 4,
      "id": "be8a2043",
      "metadata": {
        "colab": {
          "base_uri": "https://localhost:8080/"
        },
        "id": "be8a2043",
        "outputId": "bb104e24-e7df-46fe-9add-90e04982cc0a"
      },
      "outputs": [
        {
          "output_type": "execute_result",
          "data": {
            "text/plain": [
              "(10000, 32, 32, 3)"
            ]
          },
          "metadata": {},
          "execution_count": 4
        }
      ],
      "source": [
        "X_test.shape"
      ]
    },
    {
      "cell_type": "code",
      "execution_count": 5,
      "id": "aff7565f",
      "metadata": {
        "colab": {
          "base_uri": "https://localhost:8080/"
        },
        "id": "aff7565f",
        "outputId": "2e867c3d-2ec6-4528-a2e7-6596fc452a17"
      },
      "outputs": [
        {
          "output_type": "execute_result",
          "data": {
            "text/plain": [
              "(32, 32, 3)"
            ]
          },
          "metadata": {},
          "execution_count": 5
        }
      ],
      "source": [
        "X_train[0].shape"
      ]
    },
    {
      "cell_type": "code",
      "execution_count": 6,
      "id": "9366fb64",
      "metadata": {
        "colab": {
          "base_uri": "https://localhost:8080/"
        },
        "id": "9366fb64",
        "outputId": "14356b02-de41-4305-f987-91cdc02e54d4"
      },
      "outputs": [
        {
          "output_type": "execute_result",
          "data": {
            "text/plain": [
              "(50000, 1)"
            ]
          },
          "metadata": {},
          "execution_count": 6
        }
      ],
      "source": [
        "Y_train.shape"
      ]
    },
    {
      "cell_type": "code",
      "execution_count": 7,
      "id": "416929ac",
      "metadata": {
        "colab": {
          "base_uri": "https://localhost:8080/"
        },
        "id": "416929ac",
        "outputId": "3233c1b8-3af8-4592-f506-ee09932e61a7"
      },
      "outputs": [
        {
          "output_type": "execute_result",
          "data": {
            "text/plain": [
              "array([[6],\n",
              "       [9],\n",
              "       [9],\n",
              "       [4],\n",
              "       [1]], dtype=uint8)"
            ]
          },
          "metadata": {},
          "execution_count": 7
        }
      ],
      "source": [
        "Y_train[:5]"
      ]
    },
    {
      "cell_type": "code",
      "execution_count": 8,
      "id": "507e6bce",
      "metadata": {
        "id": "507e6bce"
      },
      "outputs": [],
      "source": [
        "Y_train=Y_train.reshape(-1,)"
      ]
    },
    {
      "cell_type": "code",
      "execution_count": 9,
      "id": "db6e9b3b",
      "metadata": {
        "colab": {
          "base_uri": "https://localhost:8080/"
        },
        "id": "db6e9b3b",
        "outputId": "2982242b-9e6f-4a9a-cffe-cc4231de9682"
      },
      "outputs": [
        {
          "output_type": "execute_result",
          "data": {
            "text/plain": [
              "(50000,)"
            ]
          },
          "metadata": {},
          "execution_count": 9
        }
      ],
      "source": [
        "Y_train.shape"
      ]
    },
    {
      "cell_type": "code",
      "execution_count": 10,
      "id": "fa246209",
      "metadata": {
        "colab": {
          "base_uri": "https://localhost:8080/"
        },
        "id": "fa246209",
        "outputId": "f6e72bb7-30e7-4504-ee36-3922c928da42"
      },
      "outputs": [
        {
          "output_type": "execute_result",
          "data": {
            "text/plain": [
              "array([6, 9, 9, ..., 9, 1, 1], dtype=uint8)"
            ]
          },
          "metadata": {},
          "execution_count": 10
        }
      ],
      "source": [
        "Y_train"
      ]
    },
    {
      "cell_type": "code",
      "execution_count": 11,
      "id": "9321117d",
      "metadata": {
        "colab": {
          "base_uri": "https://localhost:8080/"
        },
        "id": "9321117d",
        "outputId": "8019611d-5d20-4148-aab9-11413314d978"
      },
      "outputs": [
        {
          "output_type": "execute_result",
          "data": {
            "text/plain": [
              "array([6, 9, 9, 4, 1], dtype=uint8)"
            ]
          },
          "metadata": {},
          "execution_count": 11
        }
      ],
      "source": [
        "Y_train[:5]"
      ]
    },
    {
      "cell_type": "code",
      "execution_count": 12,
      "id": "6c96725f",
      "metadata": {
        "id": "6c96725f"
      },
      "outputs": [],
      "source": [
        "Y_test=Y_test.reshape(-1,)"
      ]
    },
    {
      "cell_type": "code",
      "execution_count": 13,
      "id": "4f620377",
      "metadata": {
        "colab": {
          "base_uri": "https://localhost:8080/",
          "height": 311
        },
        "id": "4f620377",
        "outputId": "7e36dcce-552f-422f-a543-c3f1781fb035"
      },
      "outputs": [
        {
          "output_type": "execute_result",
          "data": {
            "text/plain": [
              "<matplotlib.image.AxesImage at 0x7d9a92d615a0>"
            ]
          },
          "metadata": {},
          "execution_count": 13
        },
        {
          "output_type": "display_data",
          "data": {
            "text/plain": [
              "<Figure size 1500x300 with 1 Axes>"
            ],
            "image/png": "[encoded data removed]"
          },
          "metadata": {}
        }
      ],
      "source": [
        "plt.figure(figsize=(15,3))\n",
        "plt.imshow(X_train[1])"
      ]
    },
    {
      "cell_type": "code",
      "execution_count": 14,
      "id": "ac2f12b9",
      "metadata": {
        "id": "ac2f12b9"
      },
      "outputs": [],
      "source": [
        "classes=[\"airplane\",\"automobile\",\"bird\",\"cat\",\"deer\",\"dog\",\"frog\",\"horse\",\"ship\",\"truck\"]\n"
      ]
    },
    {
      "cell_type": "code",
      "execution_count": 15,
      "id": "da38016d",
      "metadata": {
        "colab": {
          "base_uri": "https://localhost:8080/",
          "height": 35
        },
        "id": "da38016d",
        "outputId": "30b37c61-6ef1-44aa-b6f5-f65bf8a5398a"
      },
      "outputs": [
        {
          "output_type": "execute_result",
          "data": {
            "text/plain": [
              "'bird'"
            ],
            "application/vnd.google.colaboratory.intrinsic+json": {
              "type": "string"
            }
          },
          "metadata": {},
          "execution_count": 15
        }
      ],
      "source": [
        "classes[2]"
      ]
    },
    {
      "cell_type": "code",
      "execution_count": 16,
      "id": "ba38e191",
      "metadata": {
        "id": "ba38e191"
      },
      "outputs": [],
      "source": [
        "def plot_sample(X,y,index):\n",
        "    plt.figure(figsize=(10,2))\n",
        "    plt.imshow(X[index])\n",
        "    plt.xlabel(classes[y[index]])"
      ]
    },
    {
      "cell_type": "code",
      "execution_count": 17,
      "id": "f59c1b36",
      "metadata": {
        "colab": {
          "base_uri": "https://localhost:8080/",
          "height": 237
        },
        "id": "f59c1b36",
        "outputId": "46077a77-1d3e-4d0e-c068-1f2c690c8bac"
      },
      "outputs": [
        {
          "output_type": "display_data",
          "data": {
            "text/plain": [
              "<Figure size 1000x200 with 1 Axes>"
            ],
            "image/png": "[encoded data removed]"
          },
          "metadata": {}
        }
      ],
      "source": [
        "plot_sample(X_train,Y_train,1)"
      ]
    },
    {
      "cell_type": "code",
      "execution_count": 18,
      "id": "628418b8",
      "metadata": {
        "scrolled": true,
        "colab": {
          "base_uri": "https://localhost:8080/",
          "height": 237
        },
        "id": "628418b8",
        "outputId": "9c9f559a-f0f3-41de-b10f-2b818c83b360"
      },
      "outputs": [
        {
          "output_type": "display_data",
          "data": {
            "text/plain": [
              "<Figure size 1000x200 with 1 Axes>"
            ],
            "image/png": "[encoded data removed]"
          },
          "metadata": {}
        }
      ],
      "source": [
        "plot_sample(X_train,Y_train,3)"
      ]
    },
    {
      "cell_type": "code",
      "execution_count": 19,
      "id": "65fcd67a",
      "metadata": {
        "id": "65fcd67a"
      },
      "outputs": [],
      "source": [
        "#normalize\n",
        "X_train=X_train/255\n",
        "X_test=X_test/255"
      ]
    },
    {
      "cell_type": "code",
      "execution_count": 20,
      "id": "b2eb06ad",
      "metadata": {
        "id": "b2eb06ad"
      },
      "outputs": [],
      "source": [
        "#building the model using CNN\n",
        "\n",
        "cnn=models.Sequential([\n",
        "    #cnn\n",
        "    layers.Conv2D(128,kernel_size=3,activation='relu',input_shape=(32,32,3)),\n",
        "    layers.MaxPooling2D(pool_size=2,strides=2),\n",
        "\n",
        "    layers.Conv2D(64,kernel_size=3,activation='relu'),\n",
        "    layers.MaxPooling2D(pool_size=2,strides=2),\n",
        "\n",
        "    #FC layer\n",
        "    layers.Flatten(),\n",
        "    layers.Dense(128,activation='relu'),\n",
        "    layers.Dropout(0.1),\n",
        "    layers.Dense(64,activation='relu'),\n",
        "    layers.Dropout(0.1),\n",
        "    layers.Dense(10,activation='softmax')\n",
        "])\n",
        "\n"
      ]
    },
    {
      "cell_type": "code",
      "execution_count": 21,
      "id": "d3ff8440",
      "metadata": {
        "id": "d3ff8440"
      },
      "outputs": [],
      "source": [
        "#compiling the model\n",
        "cnn.compile(optimizer='adam',\n",
        "            loss='sparse_categorical_crossentropy',\n",
        "            metrics=['accuracy'])"
      ]
    },
    {
      "cell_type": "code",
      "execution_count": 22,
      "id": "b332bc97",
      "metadata": {
        "colab": {
          "base_uri": "https://localhost:8080/"
        },
        "id": "b332bc97",
        "outputId": "364828f4-d539-4ebe-d414-1326992fd9c3"
      },
      "outputs": [
        {
          "output_type": "stream",
          "name": "stdout",
          "text": [
            "Epoch 1/3\n",
            "1563/1563 [==============================] - 18s 5ms/step - loss: 1.5517 - accuracy: 0.4377\n",
            "Epoch 2/3\n",
            "1563/1563 [==============================] - 7s 5ms/step - loss: 1.2016 - accuracy: 0.5766\n",
            "Epoch 3/3\n",
            "1563/1563 [==============================] - 7s 4ms/step - loss: 1.0584 - accuracy: 0.6304\n"
          ]
        },
        {
          "output_type": "execute_result",
          "data": {
            "text/plain": [
              "<keras.src.callbacks.History at 0x7d9a89928af0>"
            ]
          },
          "metadata": {},
          "execution_count": 22
        }
      ],
      "source": [
        "cnn.fit(X_train,Y_train,epochs=3)"
      ]
    },
    {
      "cell_type": "code",
      "execution_count": 23,
      "id": "b5b0cc60",
      "metadata": {
        "colab": {
          "base_uri": "https://localhost:8080/"
        },
        "id": "b5b0cc60",
        "outputId": "52c37054-c646-4131-e92c-c22257f42d63"
      },
      "outputs": [
        {
          "output_type": "stream",
          "name": "stdout",
          "text": [
            "1563/1563 [==============================] - 5s 3ms/step - loss: 0.9164 - accuracy: 0.6871\n"
          ]
        }
      ],
      "source": [
        "loss,accuracy=cnn.evaluate(X_train,Y_train) #train accuracy"
      ]
    },
    {
      "cell_type": "code",
      "execution_count": 24,
      "id": "49bc7b9e",
      "metadata": {
        "colab": {
          "base_uri": "https://localhost:8080/"
        },
        "id": "49bc7b9e",
        "outputId": "5476f7a9-ddbf-40bb-8668-a4589584c0b3"
      },
      "outputs": [
        {
          "output_type": "stream",
          "name": "stdout",
          "text": [
            "loss:     0.9163662791252136\\ train naccuracy: 68.70800256729126\n"
          ]
        }
      ],
      "source": [
        "print(f\"loss:     {loss}\\ train naccuracy: {100*accuracy}\")"
      ]
    },
    {
      "cell_type": "code",
      "execution_count": 25,
      "id": "9468f266",
      "metadata": {
        "colab": {
          "base_uri": "https://localhost:8080/"
        },
        "id": "9468f266",
        "outputId": "ed56aed9-29ee-43a8-db9b-a1ea7ab8f549"
      },
      "outputs": [
        {
          "output_type": "stream",
          "name": "stdout",
          "text": [
            "313/313 [==============================] - 1s 3ms/step - loss: 1.0179 - accuracy: 0.6461\n"
          ]
        },
        {
          "output_type": "execute_result",
          "data": {
            "text/plain": [
              "[1.0178555250167847, 0.6460999846458435]"
            ]
          },
          "metadata": {},
          "execution_count": 25
        }
      ],
      "source": [
        "cnn.evaluate(X_test,Y_test) #test accuracy"
      ]
    },
    {
      "cell_type": "code",
      "execution_count": 26,
      "id": "28aae795",
      "metadata": {
        "colab": {
          "base_uri": "https://localhost:8080/",
          "height": 237
        },
        "id": "28aae795",
        "outputId": "3b7e8661-31ff-4b4b-b35b-b328be0f59fc"
      },
      "outputs": [
        {
          "output_type": "display_data",
          "data": {
            "text/plain": [
              "<Figure size 1000x200 with 1 Axes>"
            ],
            "image/png": "[encoded data removed]"
          },
          "metadata": {}
        }
      ],
      "source": [
        "#True class\n",
        "plot_sample(X_test,Y_test,1)"
      ]
    },
    {
      "cell_type": "code",
      "execution_count": 27,
      "id": "ffd68171",
      "metadata": {
        "colab": {
          "base_uri": "https://localhost:8080/"
        },
        "id": "ffd68171",
        "outputId": "37c820ca-5ae8-4e5c-d194-24444aac3dc9"
      },
      "outputs": [
        {
          "output_type": "stream",
          "name": "stdout",
          "text": [
            "313/313 [==============================] - 1s 2ms/step\n"
          ]
        }
      ],
      "source": [
        "Y_pred=cnn.predict(X_test)\n"
      ]
    },
    {
      "cell_type": "code",
      "execution_count": 28,
      "id": "b438b4a6",
      "metadata": {
        "colab": {
          "base_uri": "https://localhost:8080/",
          "height": 35
        },
        "id": "b438b4a6",
        "outputId": "5fa36bf0-0ebc-468a-eaad-fcdafb9a7a94"
      },
      "outputs": [
        {
          "output_type": "execute_result",
          "data": {
            "text/plain": [
              "'ship'"
            ],
            "application/vnd.google.colaboratory.intrinsic+json": {
              "type": "string"
            }
          },
          "metadata": {},
          "execution_count": 28
        }
      ],
      "source": [
        "#predicted class\n",
        "classes[np.argmax(Y_pred[1])]"
      ]
    },
    {
      "cell_type": "code",
      "execution_count": 29,
      "id": "cebfeb9d",
      "metadata": {
        "colab": {
          "base_uri": "https://localhost:8080/",
          "height": 237
        },
        "id": "cebfeb9d",
        "outputId": "ad1f598a-6a99-432e-e190-5db7ad612177"
      },
      "outputs": [
        {
          "output_type": "display_data",
          "data": {
            "text/plain": [
              "<Figure size 1000x200 with 1 Axes>"
            ],
            "image/png": "[encoded data removed]"
          },
          "metadata": {}
        }
      ],
      "source": [
        "#True class\n",
        "plot_sample(X_test,Y_test,9)"
      ]
    },
    {
      "cell_type": "code",
      "execution_count": 30,
      "id": "f471a226",
      "metadata": {
        "colab": {
          "base_uri": "https://localhost:8080/",
          "height": 35
        },
        "id": "f471a226",
        "outputId": "4ae03e55-eefc-421a-c8fa-c526b8e9b626"
      },
      "outputs": [
        {
          "output_type": "execute_result",
          "data": {
            "text/plain": [
              "'automobile'"
            ],
            "application/vnd.google.colaboratory.intrinsic+json": {
              "type": "string"
            }
          },
          "metadata": {},
          "execution_count": 30
        }
      ],
      "source": [
        "#predicted class\n",
        "classes[np.argmax(Y_pred[9])]"
      ]
    },
    {
      "cell_type": "code",
      "execution_count": 31,
      "id": "82f3249f",
      "metadata": {
        "id": "82f3249f"
      },
      "outputs": [],
      "source": [
        "Y_classes=[np.argmax(i) for i in Y_pred ]\n"
      ]
    },
    {
      "cell_type": "code",
      "execution_count": 32,
      "id": "e7ce5024",
      "metadata": {
        "colab": {
          "base_uri": "https://localhost:8080/"
        },
        "id": "e7ce5024",
        "outputId": "02281289-f742-49f2-e223-99fdc494379b"
      },
      "outputs": [
        {
          "output_type": "execute_result",
          "data": {
            "text/plain": [
              "[3, 8, 8, 8, 4]"
            ]
          },
          "metadata": {},
          "execution_count": 32
        }
      ],
      "source": [
        "Y_classes[:5]"
      ]
    },
    {
      "cell_type": "code",
      "execution_count": 33,
      "id": "079e877e",
      "metadata": {
        "colab": {
          "base_uri": "https://localhost:8080/"
        },
        "id": "079e877e",
        "outputId": "8a3c9f34-9bb0-4e76-a942-bb449a946563"
      },
      "outputs": [
        {
          "output_type": "execute_result",
          "data": {
            "text/plain": [
              "array([3, 8, 8, 0, 6], dtype=uint8)"
            ]
          },
          "metadata": {},
          "execution_count": 33
        }
      ],
      "source": [
        "Y_test[:5]"
      ]
    },
    {
      "cell_type": "code",
      "execution_count": 34,
      "id": "aeb0f177",
      "metadata": {
        "id": "aeb0f177"
      },
      "outputs": [],
      "source": [
        "from sklearn.metrics import classification_report"
      ]
    },
    {
      "cell_type": "code",
      "execution_count": 35,
      "id": "b7ed106b",
      "metadata": {
        "colab": {
          "base_uri": "https://localhost:8080/"
        },
        "id": "b7ed106b",
        "outputId": "4f2b0b99-31ea-438f-b79e-86c92fdd9ccc"
      },
      "outputs": [
        {
          "output_type": "stream",
          "name": "stdout",
          "text": [
            "classification report for CNN: \n",
            "\n",
            "               precision    recall  f1-score   support\n",
            "\n",
            "           0       0.60      0.78      0.68      1000\n",
            "           1       0.77      0.80      0.78      1000\n",
            "           2       0.58      0.47      0.52      1000\n",
            "           3       0.41      0.57      0.48      1000\n",
            "           4       0.65      0.51      0.57      1000\n",
            "           5       0.62      0.45      0.52      1000\n",
            "           6       0.78      0.70      0.74      1000\n",
            "           7       0.68      0.72      0.70      1000\n",
            "           8       0.72      0.78      0.75      1000\n",
            "           9       0.73      0.69      0.71      1000\n",
            "\n",
            "    accuracy                           0.65     10000\n",
            "   macro avg       0.65      0.65      0.64     10000\n",
            "weighted avg       0.65      0.65      0.64     10000\n",
            "\n"
          ]
        }
      ],
      "source": [
        "print(\"classification report for CNN: \\n\\n\",classification_report(Y_test,Y_classes))"
      ]
    },
    {
      "cell_type": "markdown",
      "source": [
        "# Now we apply DenseNet"
      ],
      "metadata": {
        "id": "z6NTKXvTM1WC"
      },
      "id": "z6NTKXvTM1WC"
    },
    {
      "cell_type": "code",
      "execution_count": 36,
      "id": "c9d0b5df",
      "metadata": {
        "id": "c9d0b5df"
      },
      "outputs": [],
      "source": [
        "from keras.layers import BatchNormalization,Conv2D,ReLU,Input,MaxPool2D,AvgPool2D,Dense,Flatten,GlobalAvgPool2D,concatenate\n",
        "from keras import Model"
      ]
    },
    {
      "cell_type": "code",
      "execution_count": 46,
      "id": "4cb79491",
      "metadata": {
        "id": "4cb79491"
      },
      "outputs": [],
      "source": [
        "def densenet(input_shape,n_classes,f=64):\n",
        "\n",
        "    def bn_rl_conv(x,f,k=1,s=1): #x is input data,f is filters,k is kernel size,s is strides\n",
        "        x=BatchNormalization()(x)\n",
        "        x=ReLU()(x)\n",
        "        x=Conv2D(f,k,strides=s,padding='same')(x)\n",
        "        return x\n",
        "\n",
        "    def dense_block(x,r):  # r is layers in a denseblock\n",
        "        for _ in range(r):\n",
        "            y=bn_rl_conv(x,4*f)\n",
        "            y=bn_rl_conv(y,4*f,k=3)\n",
        "            x=concatenate([y,x])\n",
        "            return x\n",
        "\n",
        "    def transition_layer(x,f):\n",
        "        x=bn_rl_conv(x,f)\n",
        "        x=AvgPool2D(2,strides=2,padding='same')(x)\n",
        "        return x\n",
        "\n",
        "    input=Input(input_shape)\n",
        "    x=Conv2D(64,7,strides=2,padding='same')(input)\n",
        "    x=MaxPool2D(3,strides=2,padding='same')(x)\n",
        "\n",
        "    for r in [6,12,24,16]:      # defines the no of conv layers in eazch dense block\n",
        "        d=dense_block(x,r)\n",
        "        x=transition_layer(d,f)\n",
        "\n",
        "    x=GlobalAvgPool2D()(d)\n",
        "    x=Dense(20,activation='relu')(x)\n",
        "    output=Dense(n_classes,activation='softmax')(x)\n",
        "\n",
        "    model=Model(input,output)\n",
        "    return model\n"
      ]
    },
    {
      "cell_type": "code",
      "execution_count": 47,
      "id": "519f5e07",
      "metadata": {
        "id": "519f5e07"
      },
      "outputs": [],
      "source": [
        "INPUT_SHAPE=(32,32,3)\n",
        "N_CLASSES=10\n",
        "model=densenet(INPUT_SHAPE,N_CLASSES)"
      ]
    },
    {
      "cell_type": "code",
      "execution_count": null,
      "id": "8bf37f60",
      "metadata": {
        "id": "8bf37f60"
      },
      "outputs": [],
      "source": [
        "model.summary()"
      ]
    },
    {
      "cell_type": "code",
      "execution_count": 52,
      "id": "f024788b",
      "metadata": {
        "id": "f024788b"
      },
      "outputs": [],
      "source": [
        "model.compile(optimizer='adam',loss='sparse_categorical_crossentropy',metrics=['accuracy'])"
      ]
    },
    {
      "cell_type": "code",
      "execution_count": 53,
      "id": "b40cbd37",
      "metadata": {
        "colab": {
          "base_uri": "https://localhost:8080/"
        },
        "id": "b40cbd37",
        "outputId": "84aed7fc-8d55-4496-9a11-ddddd09faf5c"
      },
      "outputs": [
        {
          "output_type": "stream",
          "name": "stdout",
          "text": [
            "Epoch 1/10\n",
            "1563/1563 [==============================] - 27s 12ms/step - loss: 0.6592 - accuracy: 0.7717\n",
            "Epoch 2/10\n",
            "1563/1563 [==============================] - 19s 12ms/step - loss: 0.5890 - accuracy: 0.7965\n",
            "Epoch 3/10\n",
            "1563/1563 [==============================] - 18s 12ms/step - loss: 0.5259 - accuracy: 0.8176\n",
            "Epoch 4/10\n",
            "1563/1563 [==============================] - 19s 12ms/step - loss: 0.4633 - accuracy: 0.8385\n",
            "Epoch 5/10\n",
            "1563/1563 [==============================] - 18s 11ms/step - loss: 0.4160 - accuracy: 0.8537\n",
            "Epoch 6/10\n",
            "1563/1563 [==============================] - 19s 12ms/step - loss: 0.3628 - accuracy: 0.8727\n",
            "Epoch 7/10\n",
            "1563/1563 [==============================] - 22s 14ms/step - loss: 0.3200 - accuracy: 0.8880\n",
            "Epoch 8/10\n",
            "1563/1563 [==============================] - 19s 12ms/step - loss: 0.2822 - accuracy: 0.9010\n",
            "Epoch 9/10\n",
            "1563/1563 [==============================] - 18s 12ms/step - loss: 0.2571 - accuracy: 0.9105\n",
            "Epoch 10/10\n",
            "1563/1563 [==============================] - 18s 11ms/step - loss: 0.2251 - accuracy: 0.9221\n"
          ]
        },
        {
          "output_type": "execute_result",
          "data": {
            "text/plain": [
              "<keras.src.callbacks.History at 0x7d99a8cbbb80>"
            ]
          },
          "metadata": {},
          "execution_count": 53
        }
      ],
      "source": [
        "model.fit(X_train,Y_train,epochs=10)"
      ]
    },
    {
      "cell_type": "code",
      "execution_count": 54,
      "id": "ad47f16e",
      "metadata": {
        "colab": {
          "base_uri": "https://localhost:8080/"
        },
        "id": "ad47f16e",
        "outputId": "9beb2593-7288-42f1-c6de-b9dc74e1128f"
      },
      "outputs": [
        {
          "output_type": "stream",
          "name": "stdout",
          "text": [
            "1563/1563 [==============================] - 7s 5ms/step - loss: 0.3121 - accuracy: 0.8935\n"
          ]
        }
      ],
      "source": [
        "loss,accuracy=model.evaluate(X_train,Y_train) #train accuracy"
      ]
    },
    {
      "cell_type": "code",
      "execution_count": 55,
      "id": "db5ac5c4",
      "metadata": {
        "colab": {
          "base_uri": "https://localhost:8080/"
        },
        "id": "db5ac5c4",
        "outputId": "d616b539-d250-4f0f-aedc-aa7575215c83"
      },
      "outputs": [
        {
          "output_type": "stream",
          "name": "stdout",
          "text": [
            "313/313 [==============================] - 1s 5ms/step - loss: 1.0142 - accuracy: 0.7410\n"
          ]
        },
        {
          "output_type": "execute_result",
          "data": {
            "text/plain": [
              "[1.0141727924346924, 0.7409999966621399]"
            ]
          },
          "metadata": {},
          "execution_count": 55
        }
      ],
      "source": [
        "model.evaluate(X_test,Y_test)"
      ]
    },
    {
      "cell_type": "code",
      "execution_count": 56,
      "id": "e56d1123",
      "metadata": {
        "colab": {
          "base_uri": "https://localhost:8080/"
        },
        "id": "e56d1123",
        "outputId": "1e49b3a9-38f3-4cf7-b03e-9aa9f7481b8f"
      },
      "outputs": [
        {
          "output_type": "stream",
          "name": "stdout",
          "text": [
            "313/313 [==============================] - 1s 3ms/step\n"
          ]
        }
      ],
      "source": [
        "y_pred=model.predict(X_test)"
      ]
    },
    {
      "cell_type": "code",
      "execution_count": 57,
      "id": "a9c79b0e",
      "metadata": {
        "colab": {
          "base_uri": "https://localhost:8080/",
          "height": 35
        },
        "id": "a9c79b0e",
        "outputId": "26de92fb-1dc9-4627-ffb9-991aaeddd97a"
      },
      "outputs": [
        {
          "output_type": "execute_result",
          "data": {
            "text/plain": [
              "'frog'"
            ],
            "application/vnd.google.colaboratory.intrinsic+json": {
              "type": "string"
            }
          },
          "metadata": {},
          "execution_count": 57
        }
      ],
      "source": [
        "classes[np.argmax(y_pred[4])]"
      ]
    },
    {
      "cell_type": "code",
      "execution_count": 58,
      "id": "558043f8",
      "metadata": {
        "colab": {
          "base_uri": "https://localhost:8080/",
          "height": 237
        },
        "id": "558043f8",
        "outputId": "5fca24fc-68ab-417a-b556-b678df71d066"
      },
      "outputs": [
        {
          "output_type": "display_data",
          "data": {
            "text/plain": [
              "<Figure size 1000x200 with 1 Axes>"
            ],
            "image/png": "[encoded data removed]"
          },
          "metadata": {}
        }
      ],
      "source": [
        "plot_sample(X_test,Y_test,4)"
      ]
    },
    {
      "cell_type": "code",
      "execution_count": 59,
      "id": "c00d3969",
      "metadata": {
        "colab": {
          "base_uri": "https://localhost:8080/"
        },
        "id": "c00d3969",
        "outputId": "d4cee6d9-3357-4454-8f3c-0ece961d5861"
      },
      "outputs": [
        {
          "output_type": "execute_result",
          "data": {
            "text/plain": [
              "[3, 8, 7, 8, 6]"
            ]
          },
          "metadata": {},
          "execution_count": 59
        }
      ],
      "source": [
        "y_classes=[np.argmax(i)for i in y_pred]\n",
        "y_classes[:5]"
      ]
    },
    {
      "cell_type": "code",
      "execution_count": 60,
      "id": "87355110",
      "metadata": {
        "colab": {
          "base_uri": "https://localhost:8080/"
        },
        "id": "87355110",
        "outputId": "89410cb1-99d5-4e65-fc6b-990c1eae12f1"
      },
      "outputs": [
        {
          "output_type": "execute_result",
          "data": {
            "text/plain": [
              "array([3, 8, 8, 0, 6], dtype=uint8)"
            ]
          },
          "metadata": {},
          "execution_count": 60
        }
      ],
      "source": [
        "Y_test[:5]"
      ]
    },
    {
      "cell_type": "code",
      "execution_count": 61,
      "id": "acdb2c1a",
      "metadata": {
        "colab": {
          "base_uri": "https://localhost:8080/"
        },
        "id": "acdb2c1a",
        "outputId": "5dcd8054-a325-4edc-8989-f77b4e44b5b9"
      },
      "outputs": [
        {
          "output_type": "stream",
          "name": "stdout",
          "text": [
            "classification report for CNN-DenseNet: \n",
            "\n",
            "               precision    recall  f1-score   support\n",
            "\n",
            "           0       0.83      0.74      0.78      1000\n",
            "           1       0.86      0.86      0.86      1000\n",
            "           2       0.64      0.70      0.67      1000\n",
            "           3       0.62      0.47      0.53      1000\n",
            "           4       0.72      0.68      0.70      1000\n",
            "           5       0.59      0.71      0.65      1000\n",
            "           6       0.62      0.90      0.74      1000\n",
            "           7       0.82      0.78      0.80      1000\n",
            "           8       0.91      0.81      0.86      1000\n",
            "           9       0.90      0.75      0.82      1000\n",
            "\n",
            "    accuracy                           0.74     10000\n",
            "   macro avg       0.75      0.74      0.74     10000\n",
            "weighted avg       0.75      0.74      0.74     10000\n",
            "\n"
          ]
        }
      ],
      "source": [
        "print(\"classification report for CNN-DenseNet: \\n\\n\",classification_report(Y_test,y_classes))"
      ]
    },
    {
      "cell_type": "code",
      "execution_count": 62,
      "id": "1a9b34d1",
      "metadata": {
        "colab": {
          "base_uri": "https://localhost:8080/"
        },
        "id": "1a9b34d1",
        "outputId": "d4daa3c4-8c3b-41e8-efc2-e31384a8daf3"
      },
      "outputs": [
        {
          "output_type": "execute_result",
          "data": {
            "text/plain": [
              "<tf.Tensor: shape=(10, 10), dtype=int32, numpy=\n",
              "array([[776,  19,  38,  21,  14,   1,   3,  12,  82,  34],\n",
              "       [ 49, 801,   6,   9,   3,   2,   7,   5,  42,  76],\n",
              "       [112,   8, 470, 123,  85,  68,  51,  39,  25,  19],\n",
              "       [ 36,  14,  53, 569,  52, 115,  46,  47,  40,  28],\n",
              "       [ 55,   7,  87, 125, 510,  16,  61, 117,  15,   7],\n",
              "       [ 30,   6,  65, 300,  25, 446,  16,  79,  18,  15],\n",
              "       [ 18,  10,  46, 133,  31,  13, 701,  13,  18,  17],\n",
              "       [ 32,   8,  30,  70,  52,  53,   2, 716,   4,  33],\n",
              "       [124,  42,   8,   7,   4,   4,   1,   6, 784,  20],\n",
              "       [ 56, 131,   9,  22,   6,   3,   8,  17,  60, 688]], dtype=int32)>"
            ]
          },
          "metadata": {},
          "execution_count": 62
        }
      ],
      "source": [
        "\n",
        "cm_cnn = tf.math.confusion_matrix(labels=Y_test,predictions=Y_classes)\n",
        "cm_cnn"
      ]
    },
    {
      "cell_type": "code",
      "execution_count": 63,
      "id": "71eb0195",
      "metadata": {
        "colab": {
          "base_uri": "https://localhost:8080/",
          "height": 505
        },
        "id": "71eb0195",
        "outputId": "28faf322-cd3f-475c-c8c8-8e2c6a1ed36e"
      },
      "outputs": [
        {
          "output_type": "execute_result",
          "data": {
            "text/plain": [
              "Text(0.5, 1.0, 'CNN analysis')"
            ]
          },
          "metadata": {},
          "execution_count": 63
        },
        {
          "output_type": "display_data",
          "data": {
            "text/plain": [
              "<Figure size 600x500 with 2 Axes>"
            ],
            "image/png": "[encoded data removed]"
          },
          "metadata": {}
        }
      ],
      "source": [
        "import seaborn as sn\n",
        "plt.figure(figsize = (6,5))\n",
        "sn. heatmap (cm_cnn, annot=True, fmt='d')\n",
        "plt.xlabel('Predicted_CNN')\n",
        "plt.ylabel(\"True value\")\n",
        "plt.title(\"CNN analysis\")"
      ]
    },
    {
      "cell_type": "code",
      "execution_count": 64,
      "id": "7482068f",
      "metadata": {
        "colab": {
          "base_uri": "https://localhost:8080/"
        },
        "id": "7482068f",
        "outputId": "b0368648-3d72-44ec-c0d5-4dd944334463"
      },
      "outputs": [
        {
          "output_type": "execute_result",
          "data": {
            "text/plain": [
              "<tf.Tensor: shape=(10, 10), dtype=int32, numpy=\n",
              "array([[745,  18,  87,  20,  20,  19,  26,  11,  38,  16],\n",
              "       [ 19, 863,  10,   4,   5,   4,  28,   4,  17,  46],\n",
              "       [ 27,   1, 697,  25,  63,  58, 113,  15,   0,   1],\n",
              "       [  9,   4,  71, 465,  63, 233, 121,  27,   4,   3],\n",
              "       [  8,   2,  55,  43, 680,  33, 137,  41,   1,   0],\n",
              "       [  7,   3,  57,  96,  28, 712,  56,  39,   1,   1],\n",
              "       [  1,   5,  24,  25,   9,  27, 900,   7,   1,   1],\n",
              "       [  5,   1,  35,  28,  54,  76,  15, 784,   0,   2],\n",
              "       [ 53,  24,  26,  24,   7,  26,  14,   3, 811,  12],\n",
              "       [ 25,  81,  19,  19,  10,  17,  34,  24,  18, 753]], dtype=int32)>"
            ]
          },
          "metadata": {},
          "execution_count": 64
        }
      ],
      "source": [
        "cm_dn = tf.math.confusion_matrix(labels=Y_test,predictions=y_classes)\n",
        "cm_dn"
      ]
    },
    {
      "cell_type": "code",
      "execution_count": 65,
      "id": "3c7e9ef4",
      "metadata": {
        "colab": {
          "base_uri": "https://localhost:8080/",
          "height": 505
        },
        "id": "3c7e9ef4",
        "outputId": "3b25a9d3-2e3f-44e5-ab4c-3213e55afdf2"
      },
      "outputs": [
        {
          "output_type": "execute_result",
          "data": {
            "text/plain": [
              "Text(0.5, 1.0, 'DenseNet analysis')"
            ]
          },
          "metadata": {},
          "execution_count": 65
        },
        {
          "output_type": "display_data",
          "data": {
            "text/plain": [
              "<Figure size 600x500 with 2 Axes>"
            ],
            "image/png": "[encoded data removed]"
          },
          "metadata": {}
        }
      ],
      "source": [
        "plt.figure(figsize = (6,5))\n",
        "sn. heatmap (cm_dn, annot=True, fmt='d')\n",
        "plt.xlabel('Predicted_DenseNet')\n",
        "plt.ylabel(\"True value\")\n",
        "plt.title(\"DenseNet analysis\")"
      ]
    },
    {
      "cell_type": "markdown",
      "source": [
        "# As we can see the DenseNet model performed better\n"
      ],
      "metadata": {
        "id": "kwlIFoIMvOJd"
      },
      "id": "kwlIFoIMvOJd"
    }
  ],
  "metadata": {
    "kernelspec": {
      "display_name": "Python 3",
      "name": "python3"
    },
    "language_info": {
      "codemirror_mode": {
        "name": "ipython",
        "version": 3
      },
      "file_extension": ".py",
      "mimetype": "text/x-python",
      "name": "python",
      "nbconvert_exporter": "python",
      "pygments_lexer": "ipython3",
      "version": "3.10.9"
    },
    "colab": {
      "provenance": [],
      "gpuType": "T4"
    },
    "accelerator": "GPU"
  },
  "nbformat": 4,
  "nbformat_minor": 5
}